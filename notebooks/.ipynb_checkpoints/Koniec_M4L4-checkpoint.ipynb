{
 "cells": [
  {
   "cell_type": "code",
   "execution_count": null,
   "id": "be5c1297-39f9-4782-9039-62b18364f7ff",
   "metadata": {},
   "outputs": [],
   "source": [
    "#Projekt prowadzony w trakcie kursu"
   ]
  },
  {
   "cell_type": "code",
   "execution_count": null,
   "id": "664ce89e-e3a0-42b8-bbb5-75236d819733",
   "metadata": {},
   "outputs": [],
   "source": [
    "import pandas as pd\n",
    "import numpy as np"
   ]
  },
  {
   "cell_type": "code",
   "execution_count": null,
   "id": "ccf9f8d4-790a-42c1-984b-2c48f54fbb97",
   "metadata": {},
   "outputs": [],
   "source": [
    "sprzedaz_2018 = pd.read_csv(\"../data/raw/sprzedaz_2018.csv\", \n",
    "                           dtype = {\n",
    "                               \"id_drogerii\" : np.uint8,\n",
    "                               \"sprzedaz\" : np.uint16\n",
    "                           })\n",
    "sprzedaz_2019 = pd.read_csv(\"../data/raw/sprzedaz_2019.csv\", \n",
    "                           dtype = {\n",
    "                               \"id_drogerii\" : np.uint8,\n",
    "                               \"sprzedaz\" : np.uint16\n",
    "                           })\n",
    "sprzedaz_2020 = pd.read_csv(\"../data/raw/sprzedaz_2020.csv\", \n",
    "                           dtype = {\n",
    "                               \"id_drogerii\" : np.uint8,\n",
    "                               \"sprzedaz\" : np.uint16\n",
    "                           })\n",
    "sprzedaz_2021 = pd.read_csv(\"../data/raw/sprzedaz_2021.csv\", \n",
    "                           dtype = {\n",
    "                               \"id_drogerii\" : np.uint8,\n",
    "                               \"sprzedaz\" : np.uint16\n",
    "                           })\n",
    "sprzedaz_2022 = pd.read_csv(\"../data/raw/sprzedaz_2022.csv\", \n",
    "                           dtype = {\n",
    "                               \"id_drogerii\" : np.uint8,\n",
    "                               \"sprzedaz\" : np.uint16\n",
    "                           })"
   ]
  },
  {
   "cell_type": "code",
   "execution_count": null,
   "id": "86a55b17-dfce-485b-82a2-55af21767ae9",
   "metadata": {},
   "outputs": [],
   "source": [
    "sprzedaz_2018[\"data\"] = pd.to_datetime(sprzedaz_2018[\"data\"])\n",
    "sprzedaz_2019[\"data\"] = pd.to_datetime(sprzedaz_2019[\"data\"])\n",
    "sprzedaz_2020[\"data\"] = pd.to_datetime(sprzedaz_2020[\"data\"])\n",
    "sprzedaz_2021[\"data\"] = pd.to_datetime(sprzedaz_2021[\"data\"])\n",
    "sprzedaz_2022[\"data\"] = pd.to_datetime(sprzedaz_2022[\"data\"])"
   ]
  },
  {
   "cell_type": "code",
   "execution_count": null,
   "id": "f7a28a01-4d5e-4141-b270-01254c43e397",
   "metadata": {},
   "outputs": [],
   "source": [
    "sklepy = pd.read_csv(\"../data/raw/sklepy.csv\",\n",
    "                    sep=\";\",\n",
    "                    na_values=\"NaN\",\n",
    "                    dtype={\"id_drogerii\" : np.uint8\n",
    "                          })"
   ]
  },
  {
   "cell_type": "code",
   "execution_count": null,
   "id": "f44ccd18-bc4b-4b91-8358-e756ecf38943",
   "metadata": {},
   "outputs": [],
   "source": [
    "ceny_ropy = pd.read_csv(\"../data/raw/ceny_ropy.csv\",\n",
    "                       sep=\"|\",\n",
    "                       na_values=\"brak\",\n",
    "                       dtype={\"cena\" : np.float32\n",
    "                             })"
   ]
  },
  {
   "cell_type": "code",
   "execution_count": null,
   "id": "1ee659c9-fbf3-4a91-a122-621d38a49af4",
   "metadata": {},
   "outputs": [],
   "source": [
    "ceny_ropy[\"data\"] = pd.to_datetime(ceny_ropy[\"data\"], format=\"%d.%m.%Y\")"
   ]
  },
  {
   "cell_type": "code",
   "execution_count": null,
   "id": "e8b402c1-2cd6-42f1-a597-2ebd676934c5",
   "metadata": {},
   "outputs": [],
   "source": [
    "ceny_ropy = ceny_ropy.fillna(method=\"ffill\").fillna(method=\"bfill\")"
   ]
  },
  {
   "cell_type": "code",
   "execution_count": null,
   "id": "cff2bd7e-bbcd-4ef3-84f2-4fccd7549861",
   "metadata": {},
   "outputs": [],
   "source": [
    "sprzedaz_2018 = sprzedaz_2018[sprzedaz_2018.nazwa_produktu == \"Produkt A\"]"
   ]
  },
  {
   "cell_type": "code",
   "execution_count": null,
   "id": "4b9be15e-4a13-4d3d-8bf5-da7919419a8e",
   "metadata": {},
   "outputs": [],
   "source": [
    "# sprzedaz_2018.query(\"nazwa_produktu == 'Produkt A'\")"
   ]
  },
  {
   "cell_type": "code",
   "execution_count": null,
   "id": "902e2da2-2a0c-4563-8546-ba2cfc0ffad0",
   "metadata": {},
   "outputs": [],
   "source": [
    "sprzedaz_2019 = sprzedaz_2019[sprzedaz_2019.nazwa_produktu == \"Produkt A\"]\n",
    "sprzedaz_2020 = sprzedaz_2020[sprzedaz_2020.nazwa_produktu == \"Produkt A\"]\n",
    "sprzedaz_2021 = sprzedaz_2021[sprzedaz_2021.nazwa_produktu == \"Produkt A\"]\n",
    "sprzedaz_2022 = sprzedaz_2022[sprzedaz_2022.nazwa_produktu == \"Produkt A\"]"
   ]
  },
  {
   "cell_type": "code",
   "execution_count": null,
   "id": "72c492fd-d241-42a2-b8ad-ab2511fdb547",
   "metadata": {},
   "outputs": [],
   "source": [
    "sprzedaz = pd.concat([sprzedaz_2018, sprzedaz_2019, sprzedaz_2020, sprzedaz_2021, sprzedaz_2022])"
   ]
  },
  {
   "cell_type": "code",
   "execution_count": null,
   "id": "50c7493d-f3f7-40eb-87c1-308006beef0c",
   "metadata": {},
   "outputs": [],
   "source": [
    "sprzedaz.drop(columns = \"nazwa_produktu\", inplace = True)"
   ]
  },
  {
   "cell_type": "code",
   "execution_count": null,
   "id": "fa8a714f-7e58-4c3f-b5e5-894d2deb6c5a",
   "metadata": {},
   "outputs": [],
   "source": [
    "dane = pd.merge(sprzedaz, ceny_ropy, on = \"data\", how = \"left\")"
   ]
  },
  {
   "cell_type": "code",
   "execution_count": null,
   "id": "97add7e7-20bb-4035-b10c-bb84a6ca4957",
   "metadata": {},
   "outputs": [],
   "source": [
    "dane.rename(columns = {\"cena\" : \"cena_ropy\"}, inplace = True)"
   ]
  },
  {
   "cell_type": "code",
   "execution_count": null,
   "id": "ce313250-4d35-46a6-938e-60e057419205",
   "metadata": {},
   "outputs": [],
   "source": [
    "dane = pd.merge(dane, sklepy, on = \"id_drogerii\")"
   ]
  },
  {
   "cell_type": "code",
   "execution_count": null,
   "id": "6fcadd2e-4884-4e9a-97a5-699a5e2a2c19",
   "metadata": {},
   "outputs": [],
   "source": [
    "dane[\"cena_ropy\"] = dane.cena_ropy.fillna(method = \"ffill\")"
   ]
  },
  {
   "cell_type": "code",
   "execution_count": null,
   "id": "c0eb3c89-40e9-4a29-901b-a2f46f2d4dc6",
   "metadata": {},
   "outputs": [],
   "source": [
    "dane.to_parquet(\"dane.parquet\")"
   ]
  },
  {
   "cell_type": "code",
   "execution_count": null,
   "id": "d92c7351-c7a9-41b5-a3c2-f3fcbae0c214",
   "metadata": {},
   "outputs": [],
   "source": [
    "dane.to_feather(\"dane_2.feather\")"
   ]
  },
  {
   "cell_type": "code",
   "execution_count": null,
   "id": "9977b164-9e79-4aa5-99a0-bf847cb06c1b",
   "metadata": {},
   "outputs": [],
   "source": []
  }
 ],
 "metadata": {
  "kernelspec": {
   "display_name": "Python 3 (ipykernel)",
   "language": "python",
   "name": "python3"
  },
  "language_info": {
   "codemirror_mode": {
    "name": "ipython",
    "version": 3
   },
   "file_extension": ".py",
   "mimetype": "text/x-python",
   "name": "python",
   "nbconvert_exporter": "python",
   "pygments_lexer": "ipython3",
   "version": "3.11.3"
  }
 },
 "nbformat": 4,
 "nbformat_minor": 5
}
