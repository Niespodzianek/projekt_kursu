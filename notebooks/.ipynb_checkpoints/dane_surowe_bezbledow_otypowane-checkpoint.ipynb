{
 "cells": [
  {
   "cell_type": "code",
   "execution_count": 1,
   "id": "be5c1297-39f9-4782-9039-62b18364f7ff",
   "metadata": {},
   "outputs": [],
   "source": [
    "#Projekt prowadzony w trakcie kursu"
   ]
  },
  {
   "cell_type": "code",
   "execution_count": 2,
   "id": "664ce89e-e3a0-42b8-bbb5-75236d819733",
   "metadata": {},
   "outputs": [],
   "source": [
    "import pandas as pd\n",
    "import numpy as np"
   ]
  },
  {
   "cell_type": "code",
   "execution_count": 3,
   "id": "ccf9f8d4-790a-42c1-984b-2c48f54fbb97",
   "metadata": {},
   "outputs": [],
   "source": [
    "sprzedaz_2018 = pd.read_csv(\"../data/raw/sprzedaz_2018.csv\", \n",
    "                           dtype = {\n",
    "                               \"id_drogerii\" : np.uint8,\n",
    "                               \"sprzedaz\" : np.uint16\n",
    "                           })\n",
    "sprzedaz_2019 = pd.read_csv(\"../data/raw/sprzedaz_2019.csv\", \n",
    "                           dtype = {\n",
    "                               \"id_drogerii\" : np.uint8,\n",
    "                               \"sprzedaz\" : np.uint16\n",
    "                           })\n",
    "sprzedaz_2020 = pd.read_csv(\"../data/raw/sprzedaz_2020.csv\", \n",
    "                           dtype = {\n",
    "                               \"id_drogerii\" : np.uint8,\n",
    "                               \"sprzedaz\" : np.uint16\n",
    "                           })\n",
    "sprzedaz_2021 = pd.read_csv(\"../data/raw/sprzedaz_2021.csv\", \n",
    "                           dtype = {\n",
    "                               \"id_drogerii\" : np.uint8,\n",
    "                               \"sprzedaz\" : np.uint16\n",
    "                           })\n",
    "sprzedaz_2022 = pd.read_csv(\"../data/raw/sprzedaz_2022.csv\", \n",
    "                           dtype = {\n",
    "                               \"id_drogerii\" : np.uint8,\n",
    "                               \"sprzedaz\" : np.uint16\n",
    "                           })"
   ]
  },
  {
   "cell_type": "code",
   "execution_count": 4,
   "id": "86a55b17-dfce-485b-82a2-55af21767ae9",
   "metadata": {},
   "outputs": [],
   "source": [
    "sprzedaz_2018[\"data\"] = pd.to_datetime(sprzedaz_2018[\"data\"])\n",
    "sprzedaz_2019[\"data\"] = pd.to_datetime(sprzedaz_2019[\"data\"])\n",
    "sprzedaz_2020[\"data\"] = pd.to_datetime(sprzedaz_2020[\"data\"])\n",
    "sprzedaz_2021[\"data\"] = pd.to_datetime(sprzedaz_2021[\"data\"])\n",
    "sprzedaz_2022[\"data\"] = pd.to_datetime(sprzedaz_2022[\"data\"])"
   ]
  },
  {
   "cell_type": "code",
   "execution_count": 5,
   "id": "f7a28a01-4d5e-4141-b270-01254c43e397",
   "metadata": {},
   "outputs": [],
   "source": [
    "sklepy = pd.read_csv(\"../data/raw/sklepy.csv\",\n",
    "                    sep=\";\",\n",
    "                    na_values=\"NaN\",\n",
    "                    dtype={\"id_drogerii\" : np.uint8\n",
    "                          })"
   ]
  },
  {
   "cell_type": "code",
   "execution_count": 6,
   "id": "f44ccd18-bc4b-4b91-8358-e756ecf38943",
   "metadata": {},
   "outputs": [],
   "source": [
    "ceny_ropy = pd.read_csv(\"../data/raw/ceny_ropy.csv\",\n",
    "                       sep=\"|\",\n",
    "                       na_values=\"brak\",\n",
    "                       dtype={\"cena\" : np.float32\n",
    "                             })"
   ]
  },
  {
   "cell_type": "code",
   "execution_count": 7,
   "id": "1ee659c9-fbf3-4a91-a122-621d38a49af4",
   "metadata": {},
   "outputs": [],
   "source": [
    "ceny_ropy[\"data\"] = pd.to_datetime(ceny_ropy[\"data\"], format=\"%d.%m.%Y\")"
   ]
  },
  {
   "cell_type": "code",
   "execution_count": 8,
   "id": "e8b402c1-2cd6-42f1-a597-2ebd676934c5",
   "metadata": {},
   "outputs": [],
   "source": [
    "ceny_ropy = ceny_ropy.fillna(method=\"ffill\").fillna(method=\"bfill\")"
   ]
  },
  {
   "cell_type": "code",
   "execution_count": 9,
   "id": "49780b5c-3b08-48d2-90f0-42d33009b5da",
   "metadata": {},
   "outputs": [
    {
     "data": {
      "text/html": [
       "<div>\n",
       "<style scoped>\n",
       "    .dataframe tbody tr th:only-of-type {\n",
       "        vertical-align: middle;\n",
       "    }\n",
       "\n",
       "    .dataframe tbody tr th {\n",
       "        vertical-align: top;\n",
       "    }\n",
       "\n",
       "    .dataframe thead th {\n",
       "        text-align: right;\n",
       "    }\n",
       "</style>\n",
       "<table border=\"1\" class=\"dataframe\">\n",
       "  <thead>\n",
       "    <tr style=\"text-align: right;\">\n",
       "      <th></th>\n",
       "      <th>data</th>\n",
       "      <th>cena</th>\n",
       "    </tr>\n",
       "  </thead>\n",
       "  <tbody>\n",
       "    <tr>\n",
       "      <th>0</th>\n",
       "      <td>2018-01-02</td>\n",
       "      <td>93.139999</td>\n",
       "    </tr>\n",
       "    <tr>\n",
       "      <th>1</th>\n",
       "      <td>2018-01-03</td>\n",
       "      <td>93.139999</td>\n",
       "    </tr>\n",
       "    <tr>\n",
       "      <th>2</th>\n",
       "      <td>2018-01-04</td>\n",
       "      <td>92.970001</td>\n",
       "    </tr>\n",
       "    <tr>\n",
       "      <th>3</th>\n",
       "      <td>2018-01-05</td>\n",
       "      <td>93.120003</td>\n",
       "    </tr>\n",
       "    <tr>\n",
       "      <th>4</th>\n",
       "      <td>2018-01-08</td>\n",
       "      <td>93.199997</td>\n",
       "    </tr>\n",
       "    <tr>\n",
       "      <th>...</th>\n",
       "      <td>...</td>\n",
       "      <td>...</td>\n",
       "    </tr>\n",
       "    <tr>\n",
       "      <th>1213</th>\n",
       "      <td>2022-08-26</td>\n",
       "      <td>47.650002</td>\n",
       "    </tr>\n",
       "    <tr>\n",
       "      <th>1214</th>\n",
       "      <td>2022-08-29</td>\n",
       "      <td>46.400002</td>\n",
       "    </tr>\n",
       "    <tr>\n",
       "      <th>1215</th>\n",
       "      <td>2022-08-30</td>\n",
       "      <td>46.459999</td>\n",
       "    </tr>\n",
       "    <tr>\n",
       "      <th>1216</th>\n",
       "      <td>2022-08-31</td>\n",
       "      <td>45.959999</td>\n",
       "    </tr>\n",
       "    <tr>\n",
       "      <th>1217</th>\n",
       "      <td>2022-09-01</td>\n",
       "      <td>47.259998</td>\n",
       "    </tr>\n",
       "  </tbody>\n",
       "</table>\n",
       "<p>1218 rows × 2 columns</p>\n",
       "</div>"
      ],
      "text/plain": [
       "           data       cena\n",
       "0    2018-01-02  93.139999\n",
       "1    2018-01-03  93.139999\n",
       "2    2018-01-04  92.970001\n",
       "3    2018-01-05  93.120003\n",
       "4    2018-01-08  93.199997\n",
       "...         ...        ...\n",
       "1213 2022-08-26  47.650002\n",
       "1214 2022-08-29  46.400002\n",
       "1215 2022-08-30  46.459999\n",
       "1216 2022-08-31  45.959999\n",
       "1217 2022-09-01  47.259998\n",
       "\n",
       "[1218 rows x 2 columns]"
      ]
     },
     "execution_count": 9,
     "metadata": {},
     "output_type": "execute_result"
    }
   ],
   "source": [
    "ceny_ropy"
   ]
  },
  {
   "cell_type": "code",
   "execution_count": null,
   "id": "26f1d06c-83cd-4cfc-8174-191c3e711166",
   "metadata": {},
   "outputs": [],
   "source": []
  },
  {
   "cell_type": "code",
   "execution_count": null,
   "id": "36cda89a-8921-4a77-a80d-713ffc1f8a21",
   "metadata": {},
   "outputs": [],
   "source": []
  }
 ],
 "metadata": {
  "kernelspec": {
   "display_name": "Python 3 (ipykernel)",
   "language": "python",
   "name": "python3"
  },
  "language_info": {
   "codemirror_mode": {
    "name": "ipython",
    "version": 3
   },
   "file_extension": ".py",
   "mimetype": "text/x-python",
   "name": "python",
   "nbconvert_exporter": "python",
   "pygments_lexer": "ipython3",
   "version": "3.11.3"
  }
 },
 "nbformat": 4,
 "nbformat_minor": 5
}
