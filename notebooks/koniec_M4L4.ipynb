{
 "cells": [
  {
   "cell_type": "code",
   "execution_count": 1,
   "id": "be5c1297-39f9-4782-9039-62b18364f7ff",
   "metadata": {},
   "outputs": [],
   "source": [
    "#Projekt prowadzony w trakcie kursu"
   ]
  },
  {
   "cell_type": "code",
   "execution_count": 2,
   "id": "664ce89e-e3a0-42b8-bbb5-75236d819733",
   "metadata": {},
   "outputs": [],
   "source": [
    "import pandas as pd\n",
    "import numpy as np"
   ]
  },
  {
   "cell_type": "code",
   "execution_count": 3,
   "id": "ccf9f8d4-790a-42c1-984b-2c48f54fbb97",
   "metadata": {},
   "outputs": [],
   "source": [
    "sprzedaz_2018 = pd.read_csv(\"../data/raw/sprzedaz_2018.csv\", \n",
    "                           dtype = {\n",
    "                               \"id_drogerii\" : np.uint8,\n",
    "                               \"sprzedaz\" : np.uint16\n",
    "                           })\n",
    "sprzedaz_2019 = pd.read_csv(\"../data/raw/sprzedaz_2019.csv\", \n",
    "                           dtype = {\n",
    "                               \"id_drogerii\" : np.uint8,\n",
    "                               \"sprzedaz\" : np.uint16\n",
    "                           })\n",
    "sprzedaz_2020 = pd.read_csv(\"../data/raw/sprzedaz_2020.csv\", \n",
    "                           dtype = {\n",
    "                               \"id_drogerii\" : np.uint8,\n",
    "                               \"sprzedaz\" : np.uint16\n",
    "                           })\n",
    "sprzedaz_2021 = pd.read_csv(\"../data/raw/sprzedaz_2021.csv\", \n",
    "                           dtype = {\n",
    "                               \"id_drogerii\" : np.uint8,\n",
    "                               \"sprzedaz\" : np.uint16\n",
    "                           })\n",
    "sprzedaz_2022 = pd.read_csv(\"../data/raw/sprzedaz_2022.csv\", \n",
    "                           dtype = {\n",
    "                               \"id_drogerii\" : np.uint8,\n",
    "                               \"sprzedaz\" : np.uint16\n",
    "                           })"
   ]
  },
  {
   "cell_type": "code",
   "execution_count": 4,
   "id": "86a55b17-dfce-485b-82a2-55af21767ae9",
   "metadata": {},
   "outputs": [],
   "source": [
    "sprzedaz_2018[\"data\"] = pd.to_datetime(sprzedaz_2018[\"data\"])\n",
    "sprzedaz_2019[\"data\"] = pd.to_datetime(sprzedaz_2019[\"data\"])\n",
    "sprzedaz_2020[\"data\"] = pd.to_datetime(sprzedaz_2020[\"data\"])\n",
    "sprzedaz_2021[\"data\"] = pd.to_datetime(sprzedaz_2021[\"data\"])\n",
    "sprzedaz_2022[\"data\"] = pd.to_datetime(sprzedaz_2022[\"data\"])"
   ]
  },
  {
   "cell_type": "code",
   "execution_count": 5,
   "id": "f7a28a01-4d5e-4141-b270-01254c43e397",
   "metadata": {},
   "outputs": [],
   "source": [
    "sklepy = pd.read_csv(\"../data/raw/sklepy.csv\",\n",
    "                    sep=\";\",\n",
    "                    na_values=\"NaN\",\n",
    "                    dtype={\"id_drogerii\" : np.uint8\n",
    "                          })"
   ]
  },
  {
   "cell_type": "code",
   "execution_count": 6,
   "id": "f44ccd18-bc4b-4b91-8358-e756ecf38943",
   "metadata": {},
   "outputs": [],
   "source": [
    "ceny_ropy = pd.read_csv(\"../data/raw/ceny_ropy.csv\",\n",
    "                       sep=\"|\",\n",
    "                       na_values=\"brak\",\n",
    "                       dtype={\"cena\" : np.float32\n",
    "                             })"
   ]
  },
  {
   "cell_type": "code",
   "execution_count": 7,
   "id": "1ee659c9-fbf3-4a91-a122-621d38a49af4",
   "metadata": {},
   "outputs": [],
   "source": [
    "ceny_ropy[\"data\"] = pd.to_datetime(ceny_ropy[\"data\"], format=\"%d.%m.%Y\")"
   ]
  },
  {
   "cell_type": "code",
   "execution_count": 8,
   "id": "e8b402c1-2cd6-42f1-a597-2ebd676934c5",
   "metadata": {},
   "outputs": [
    {
     "name": "stderr",
     "output_type": "stream",
     "text": [
      "/var/folders/p6/06sxnct51flgxcz7_7f9k1vw0000gn/T/ipykernel_3687/576629245.py:1: FutureWarning: DataFrame.fillna with 'method' is deprecated and will raise in a future version. Use obj.ffill() or obj.bfill() instead.\n",
      "  ceny_ropy = ceny_ropy.fillna(method=\"ffill\").fillna(method=\"bfill\")\n"
     ]
    }
   ],
   "source": [
    "ceny_ropy = ceny_ropy.fillna(method=\"ffill\").fillna(method=\"bfill\")"
   ]
  },
  {
   "cell_type": "code",
   "execution_count": 9,
   "id": "cff2bd7e-bbcd-4ef3-84f2-4fccd7549861",
   "metadata": {},
   "outputs": [],
   "source": [
    "sprzedaz_2018 = sprzedaz_2018[sprzedaz_2018.nazwa_produktu == \"Produkt A\"]"
   ]
  },
  {
   "cell_type": "code",
   "execution_count": 10,
   "id": "4b9be15e-4a13-4d3d-8bf5-da7919419a8e",
   "metadata": {},
   "outputs": [],
   "source": [
    "# sprzedaz_2018.query(\"nazwa_produktu == 'Produkt A'\")"
   ]
  },
  {
   "cell_type": "code",
   "execution_count": 11,
   "id": "902e2da2-2a0c-4563-8546-ba2cfc0ffad0",
   "metadata": {},
   "outputs": [],
   "source": [
    "sprzedaz_2019 = sprzedaz_2019[sprzedaz_2019.nazwa_produktu == \"Produkt A\"]\n",
    "sprzedaz_2020 = sprzedaz_2020[sprzedaz_2020.nazwa_produktu == \"Produkt A\"]\n",
    "sprzedaz_2021 = sprzedaz_2021[sprzedaz_2021.nazwa_produktu == \"Produkt A\"]\n",
    "sprzedaz_2022 = sprzedaz_2022[sprzedaz_2022.nazwa_produktu == \"Produkt A\"]"
   ]
  },
  {
   "cell_type": "code",
   "execution_count": 12,
   "id": "72c492fd-d241-42a2-b8ad-ab2511fdb547",
   "metadata": {},
   "outputs": [],
   "source": [
    "sprzedaz = pd.concat([sprzedaz_2018, sprzedaz_2019, sprzedaz_2020, sprzedaz_2021, sprzedaz_2022])"
   ]
  },
  {
   "cell_type": "code",
   "execution_count": 13,
   "id": "50c7493d-f3f7-40eb-87c1-308006beef0c",
   "metadata": {},
   "outputs": [],
   "source": [
    "sprzedaz.drop(columns = \"nazwa_produktu\", inplace = True)"
   ]
  },
  {
   "cell_type": "code",
   "execution_count": 14,
   "id": "fa8a714f-7e58-4c3f-b5e5-894d2deb6c5a",
   "metadata": {},
   "outputs": [],
   "source": [
    "dane = pd.merge(sprzedaz, ceny_ropy, on = \"data\", how = \"left\")"
   ]
  },
  {
   "cell_type": "code",
   "execution_count": 15,
   "id": "97add7e7-20bb-4035-b10c-bb84a6ca4957",
   "metadata": {},
   "outputs": [],
   "source": [
    "dane.rename(columns = {\"cena\" : \"cena_ropy\"}, inplace = True)"
   ]
  },
  {
   "cell_type": "code",
   "execution_count": 16,
   "id": "ce313250-4d35-46a6-938e-60e057419205",
   "metadata": {},
   "outputs": [],
   "source": [
    "dane = pd.merge(dane, sklepy, on = \"id_drogerii\")"
   ]
  },
  {
   "cell_type": "code",
   "execution_count": 17,
   "id": "c0eb3c89-40e9-4a29-901b-a2f46f2d4dc6",
   "metadata": {},
   "outputs": [
    {
     "name": "stderr",
     "output_type": "stream",
     "text": [
      "/var/folders/p6/06sxnct51flgxcz7_7f9k1vw0000gn/T/ipykernel_3687/845333062.py:1: FutureWarning: Series.fillna with 'method' is deprecated and will raise in a future version. Use obj.ffill() or obj.bfill() instead.\n",
      "  dane[\"cena_ropy\"] = dane.cena_ropy.fillna(method = \"ffill\")\n"
     ]
    }
   ],
   "source": [
    "dane[\"cena_ropy\"] = dane.cena_ropy.fillna(method = \"ffill\")\n",
    "dane.drop(columns=\"Unnamed: 4\", inplace=True)"
   ]
  },
  {
   "cell_type": "code",
   "execution_count": 18,
   "id": "cdc85a9c",
   "metadata": {},
   "outputs": [
    {
     "data": {
      "text/html": [
       "<div>\n",
       "<style scoped>\n",
       "    .dataframe tbody tr th:only-of-type {\n",
       "        vertical-align: middle;\n",
       "    }\n",
       "\n",
       "    .dataframe tbody tr th {\n",
       "        vertical-align: top;\n",
       "    }\n",
       "\n",
       "    .dataframe thead th {\n",
       "        text-align: right;\n",
       "    }\n",
       "</style>\n",
       "<table border=\"1\" class=\"dataframe\">\n",
       "  <thead>\n",
       "    <tr style=\"text-align: right;\">\n",
       "      <th></th>\n",
       "      <th>data</th>\n",
       "      <th>id_drogerii</th>\n",
       "      <th>sprzedaz</th>\n",
       "      <th>cena_ropy</th>\n",
       "      <th>miasto</th>\n",
       "      <th>wojewodztwo</th>\n",
       "      <th>typ_drogerii</th>\n",
       "    </tr>\n",
       "  </thead>\n",
       "  <tbody>\n",
       "    <tr>\n",
       "      <th>0</th>\n",
       "      <td>2018-01-02</td>\n",
       "      <td>1</td>\n",
       "      <td>0</td>\n",
       "      <td>93.139999</td>\n",
       "      <td>Warszawa</td>\n",
       "      <td>Mazowieckie</td>\n",
       "      <td>D</td>\n",
       "    </tr>\n",
       "    <tr>\n",
       "      <th>1</th>\n",
       "      <td>2018-01-02</td>\n",
       "      <td>10</td>\n",
       "      <td>0</td>\n",
       "      <td>93.139999</td>\n",
       "      <td>Warszawa</td>\n",
       "      <td>Mazowieckie</td>\n",
       "      <td>C</td>\n",
       "    </tr>\n",
       "    <tr>\n",
       "      <th>2</th>\n",
       "      <td>2018-01-02</td>\n",
       "      <td>11</td>\n",
       "      <td>0</td>\n",
       "      <td>93.139999</td>\n",
       "      <td>Radom</td>\n",
       "      <td>Mazowieckie</td>\n",
       "      <td>B</td>\n",
       "    </tr>\n",
       "    <tr>\n",
       "      <th>3</th>\n",
       "      <td>2018-01-02</td>\n",
       "      <td>12</td>\n",
       "      <td>0</td>\n",
       "      <td>93.139999</td>\n",
       "      <td>Lublin</td>\n",
       "      <td>Lubelskie</td>\n",
       "      <td>C</td>\n",
       "    </tr>\n",
       "    <tr>\n",
       "      <th>4</th>\n",
       "      <td>2018-01-02</td>\n",
       "      <td>13</td>\n",
       "      <td>0</td>\n",
       "      <td>93.139999</td>\n",
       "      <td>Lublin</td>\n",
       "      <td>Lubelskie</td>\n",
       "      <td>C</td>\n",
       "    </tr>\n",
       "    <tr>\n",
       "      <th>...</th>\n",
       "      <td>...</td>\n",
       "      <td>...</td>\n",
       "      <td>...</td>\n",
       "      <td>...</td>\n",
       "      <td>...</td>\n",
       "      <td>...</td>\n",
       "      <td>...</td>\n",
       "    </tr>\n",
       "    <tr>\n",
       "      <th>90931</th>\n",
       "      <td>2022-08-16</td>\n",
       "      <td>54</td>\n",
       "      <td>0</td>\n",
       "      <td>47.570000</td>\n",
       "      <td>Katowice</td>\n",
       "      <td>Śląskie</td>\n",
       "      <td>C</td>\n",
       "    </tr>\n",
       "    <tr>\n",
       "      <th>90932</th>\n",
       "      <td>2022-08-16</td>\n",
       "      <td>6</td>\n",
       "      <td>7</td>\n",
       "      <td>47.570000</td>\n",
       "      <td>Warszawa</td>\n",
       "      <td>Mazowieckie</td>\n",
       "      <td>D</td>\n",
       "    </tr>\n",
       "    <tr>\n",
       "      <th>90933</th>\n",
       "      <td>2022-08-16</td>\n",
       "      <td>7</td>\n",
       "      <td>5</td>\n",
       "      <td>47.570000</td>\n",
       "      <td>Warszawa</td>\n",
       "      <td>Mazowieckie</td>\n",
       "      <td>D</td>\n",
       "    </tr>\n",
       "    <tr>\n",
       "      <th>90934</th>\n",
       "      <td>2022-08-16</td>\n",
       "      <td>8</td>\n",
       "      <td>4</td>\n",
       "      <td>47.570000</td>\n",
       "      <td>Warszawa</td>\n",
       "      <td>Mazowieckie</td>\n",
       "      <td>D</td>\n",
       "    </tr>\n",
       "    <tr>\n",
       "      <th>90935</th>\n",
       "      <td>2022-08-16</td>\n",
       "      <td>9</td>\n",
       "      <td>15</td>\n",
       "      <td>47.570000</td>\n",
       "      <td>Warszawa</td>\n",
       "      <td>Mazowieckie</td>\n",
       "      <td>B</td>\n",
       "    </tr>\n",
       "  </tbody>\n",
       "</table>\n",
       "<p>90936 rows × 7 columns</p>\n",
       "</div>"
      ],
      "text/plain": [
       "            data  id_drogerii  sprzedaz  cena_ropy    miasto  wojewodztwo  \\\n",
       "0     2018-01-02            1         0  93.139999  Warszawa  Mazowieckie   \n",
       "1     2018-01-02           10         0  93.139999  Warszawa  Mazowieckie   \n",
       "2     2018-01-02           11         0  93.139999     Radom  Mazowieckie   \n",
       "3     2018-01-02           12         0  93.139999    Lublin    Lubelskie   \n",
       "4     2018-01-02           13         0  93.139999    Lublin    Lubelskie   \n",
       "...          ...          ...       ...        ...       ...          ...   \n",
       "90931 2022-08-16           54         0  47.570000  Katowice      Śląskie   \n",
       "90932 2022-08-16            6         7  47.570000  Warszawa  Mazowieckie   \n",
       "90933 2022-08-16            7         5  47.570000  Warszawa  Mazowieckie   \n",
       "90934 2022-08-16            8         4  47.570000  Warszawa  Mazowieckie   \n",
       "90935 2022-08-16            9        15  47.570000  Warszawa  Mazowieckie   \n",
       "\n",
       "      typ_drogerii  \n",
       "0                D  \n",
       "1                C  \n",
       "2                B  \n",
       "3                C  \n",
       "4                C  \n",
       "...            ...  \n",
       "90931            C  \n",
       "90932            D  \n",
       "90933            D  \n",
       "90934            D  \n",
       "90935            B  \n",
       "\n",
       "[90936 rows x 7 columns]"
      ]
     },
     "execution_count": 18,
     "metadata": {},
     "output_type": "execute_result"
    }
   ],
   "source": [
    "dane.to_parquet(\"dane.parquet\")\n",
    "dane"
   ]
  },
  {
   "cell_type": "code",
   "execution_count": null,
   "id": "9ea650ca-a7f2-4e7e-ae44-15c8eb030dbe",
   "metadata": {},
   "outputs": [],
   "source": []
  }
 ],
 "metadata": {
  "kernelspec": {
   "display_name": "Python 3 (ipykernel)",
   "language": "python",
   "name": "python3"
  },
  "language_info": {
   "codemirror_mode": {
    "name": "ipython",
    "version": 3
   },
   "file_extension": ".py",
   "mimetype": "text/x-python",
   "name": "python",
   "nbconvert_exporter": "python",
   "pygments_lexer": "ipython3",
   "version": "3.11.3"
  }
 },
 "nbformat": 4,
 "nbformat_minor": 5
}
